{
 "cells": [
  {
   "cell_type": "markdown",
   "metadata": {},
   "source": [
    "---\n",
    "## Step 0: Load The Data"
   ]
  },
  {
   "cell_type": "code",
   "execution_count": 11,
   "metadata": {},
   "outputs": [],
   "source": [
    "\n",
    "# Load pickled data\n",
    "import pickle\n",
    "import tensorflow as tf\n",
    "\n",
    "# TODO: Fill this in based on where you saved the training and testing data\n",
    "\n",
    "training_file = 'data/train.p'\n",
    "validation_file= 'data/valid.p'\n",
    "testing_file = 'data/test.p'\n",
    "\n",
    "with open(training_file, mode='rb') as f:\n",
    "    train = pickle.load(f)\n",
    "with open(validation_file, mode='rb') as f:\n",
    "    valid = pickle.load(f)\n",
    "with open(testing_file, mode='rb') as f:\n",
    "    test = pickle.load(f)\n",
    "    \n",
    "x_valid, y_valid = valid['features'], valid['labels']\n",
    "x_test, y_test = test['features'], test['labels']\n",
    "x_train, y_train = train['features'], train['labels']  "
   ]
  },
  {
   "cell_type": "markdown",
   "metadata": {},
   "source": [
    "---\n",
    "\n",
    "## Step 1: Dataset Summary & Exploration\n",
    "\n",
    "The pickled data is a dictionary with 4 key/value pairs:\n",
    "\n",
    "- `'features'` is a 4D array containing raw pixel data of the traffic sign images, (num examples, width, height, channels).\n",
    "- `'labels'` is a 1D array containing the label/class id of the traffic sign. The file `signnames.csv` contains id -> name mappings for each id.\n",
    "- `'sizes'` is a list containing tuples, (width, height) representing the original width and height the image.\n",
    "- `'coords'` is a list containing tuples, (x1, y1, x2, y2) representing coordinates of a bounding box around the sign in the image. **THESE COORDINATES ASSUME THE ORIGINAL IMAGE. THE PICKLED DATA CONTAINS RESIZED VERSIONS (32 by 32) OF THESE IMAGES**\n",
    "\n",
    "Complete the basic data summary below. Use python, numpy and/or pandas methods to calculate the data summary rather than hard coding the results. For example, the [pandas shape method](http://pandas.pydata.org/pandas-docs/stable/generated/pandas.DataFrame.shape.html) might be useful for calculating some of the summary results. "
   ]
  },
  {
   "cell_type": "code",
   "execution_count": 12,
   "metadata": {},
   "outputs": [
    {
     "name": "stdout",
     "output_type": "stream",
     "text": [
      "Number of training examples = 34799\n",
      "Number of validation examples = 4410\n",
      "Number of testing examples = 12630\n",
      "Image data shape = (32, 32, 3)\n",
      "Number of classes = 43\n"
     ]
    }
   ],
   "source": [
    "# TODO: Number of training examples\n",
    "n_train = len(x_train)\n",
    "\n",
    "# TODO: Number of validation examples\n",
    "n_validation = len(x_valid)\n",
    "\n",
    "# TODO: Number of testing examples.\n",
    "n_test = len(x_test)\n",
    "\n",
    "# TODO: What's the shape of an traffic sign image?\n",
    "image_shape = format(x_train[0].shape)\n",
    "\n",
    "# TODO: How many unique classes/labels there are in the dataset.\n",
    "y_class = list(set(y_train))\n",
    "n_classes = len(y_class)\n",
    "\n",
    "\n",
    "print(\"Number of training examples =\", n_train)\n",
    "print(\"Number of validation examples =\", n_validation)\n",
    "print(\"Number of testing examples =\", n_test)\n",
    "print(\"Image data shape =\", image_shape)\n",
    "print(\"Number of classes =\", n_classes)\n"
   ]
  },
  {
   "cell_type": "code",
   "execution_count": 13,
   "metadata": {
    "collapsed": true
   },
   "outputs": [],
   "source": [
    "from sklearn.model_selection import train_test_split\n",
    "x_train, x_validation, y_train,y_validation = train_test_split(x_train, y_train, test_size = 0.2, random_state =0 )\n",
    "#x_test, x_validation, y_test,y_validation = train_test_split(x_test, y_test, test_size = 0.2, random_state =0 )"
   ]
  },
  {
   "cell_type": "markdown",
   "metadata": {},
   "source": [
    "### Include an exploratory visualization of the dataset"
   ]
  },
  {
   "cell_type": "code",
   "execution_count": 14,
   "metadata": {},
   "outputs": [
    {
     "data": {
      "image/png": "[encoded data removed]",
      "text/plain": [
       "<matplotlib.figure.Figure at 0x7f866a5d5d68>"
      ]
     },
     "metadata": {},
     "output_type": "display_data"
    },
    {
     "data": {
      "image/png": "[encoded data removed]",
      "text/plain": [
       "<matplotlib.figure.Figure at 0x7f866d7efa90>"
      ]
     },
     "metadata": {},
     "output_type": "display_data"
    },
    {
     "data": {
      "image/png": "[encoded data removed]",
      "text/plain": [
       "<matplotlib.figure.Figure at 0x7f86583bdb70>"
      ]
     },
     "metadata": {},
     "output_type": "display_data"
    },
    {
     "name": "stdout",
     "output_type": "stream",
     "text": [
      "15\n"
     ]
    },
    {
     "data": {
      "text/plain": [
       "<matplotlib.image.AxesImage at 0x7f866d6ac320>"
      ]
     },
     "execution_count": 14,
     "metadata": {},
     "output_type": "execute_result"
    },
    {
     "data": {
      "image/png": "[encoded data removed]",
      "text/plain": [
       "<matplotlib.figure.Figure at 0x7f865823aeb8>"
      ]
     },
     "metadata": {},
     "output_type": "display_data"
    }
   ],
   "source": [
    "#visualize Data\n",
    "import random\n",
    "import numpy as np\n",
    "import matplotlib.pyplot as plt\n",
    "#%matplitlib inline\n",
    "\n",
    "import matplotlib.pyplot as plt\n",
    "import random\n",
    "# Visualizations will be shown in the notebook.\n",
    "%matplotlib inline\n",
    "\n",
    "\n",
    "def draw_hist(myList,Title,Xlabel,Ylabel,Xmin,Xmax,Ymin,Ymax):\n",
    "    plt.hist(myList,bins=50, histtype='bar',facecolor='blue',rwidth=0.9)\n",
    "    plt.xlabel(Xlabel)\n",
    "    plt.xlim(Xmin,Xmax)\n",
    "    plt.ylabel(Ylabel)\n",
    "    plt.ylim(Ymin,Ymax)\n",
    "    plt.title(Title)\n",
    "    plt.show()\n",
    "  \n",
    "\n",
    "draw_hist(y_train,'y_train','class','number',0,43,0.0,2500)\n",
    "draw_hist(y_valid,'y_valid','class','number',0,43,0.0,400)\n",
    "draw_hist(y_test,'y_test','class','number',0,43,0.0,1000)\n",
    "\n",
    "\n",
    "index = random.randint(0, len(x_train))\n",
    "image = x_train[index].squeeze()\n",
    "print(y_train[index])\n",
    "plt.figure(figsize=(1,1))\n",
    "plt.imshow(image)"
   ]
  },
  {
   "cell_type": "markdown",
   "metadata": {},
   "source": [
    "----\n",
    "\n",
    "## Step 2: Design and Test a Model Architecture\n",
    "\n",
    "Design and implement a deep learning model that learns to recognize traffic signs. Train and test your model on the [German Traffic Sign Dataset](http://benchmark.ini.rub.de/?section=gtsrb&subsection=dataset).\n",
    "\n",
    "The LeNet-5 implementation shown in the [classroom](https://classroom.udacity.com/nanodegrees/nd013/parts/fbf77062-5703-404e-b60c-95b78b2f3f9e/modules/6df7ae49-c61c-4bb2-a23e-6527e69209ec/lessons/601ae704-1035-4287-8b11-e2c2716217ad/concepts/d4aca031-508f-4e0b-b493-e7b706120f81) at the end of the CNN lesson is a solid starting point. You'll have to change the number of classes and possibly the preprocessing, but aside from that it's plug and play! \n",
    "\n",
    "With the LeNet-5 solution from the lecture, you should expect a validation set accuracy of about 0.89. To meet specifications, the validation set accuracy will need to be at least 0.93. It is possible to get an even higher accuracy, but 0.93 is the minimum for a successful project submission. \n",
    "\n",
    "There are various aspects to consider when thinking about this problem:\n",
    "\n",
    "- Neural network architecture (is the network over or underfitting?)\n",
    "- Play around preprocessing techniques (normalization, rgb to grayscale, etc)\n",
    "- Number of examples per label (some have more than others).\n",
    "- Generate fake data.\n",
    "\n",
    "Here is an example of a [published baseline model on this problem](http://yann.lecun.com/exdb/publis/pdf/sermanet-ijcnn-11.pdf). It's not required to be familiar with the approach used in the paper but, it's good practice to try to read papers like these."
   ]
  },
  {
   "cell_type": "markdown",
   "metadata": {},
   "source": [
    "### Pre-process the Data Set (normalization, grayscale, etc.)"
   ]
  },
  {
   "cell_type": "code",
   "execution_count": 15,
   "metadata": {},
   "outputs": [
    {
     "data": {
      "image/png": "[encoded data removed]",
      "text/plain": [
       "<matplotlib.figure.Figure at 0x7f865820ac18>"
      ]
     },
     "metadata": {},
     "output_type": "display_data"
    }
   ],
   "source": [
    "#preprocess data\n",
    "from sklearn.utils import shuffle\n",
    "from sklearn import preprocessing\n",
    "from skimage import io,data,color\n",
    "import cv2\n",
    "#%matplitlib inline\n",
    "\n",
    "\n",
    "#before grayscale\n",
    "#plt.figure(figsize=(1,1))\n",
    "plt.subplot(221) \n",
    "plt.imshow(image)\n",
    "\n",
    "\n",
    "#after grayscale\n",
    "image1 = cv2.cvtColor(image,cv2.COLOR_RGB2GRAY)\n",
    "plt.subplot(222) \n",
    "plt.imshow(image1)\n",
    "\n",
    "x_train, y_train = shuffle(x_train, y_train)\n",
    "x_test, y_test = shuffle(x_test, y_test)\n",
    "x_validation, y_validation = shuffle(x_validation, y_validation)\n",
    "\n",
    "\n",
    "x_train_la = np.zeros([len(x_train), 32,32])\n",
    "#x_test_la = np.zeros([len(x_test), 32,32])\n",
    "x_validation_la = np.zeros([len(x_validation), 32,32])\n",
    "\n",
    "#rgb to gray for each image\n",
    "for i in range(len(x_train)):\n",
    "    x_train_la[i] = cv2.cvtColor(x_train[i],cv2.COLOR_RGB2GRAY)\n",
    "\n",
    "#for i in range(len(x_test)):\n",
    "    #x_test_la[i] = cv2.cvtColor(x_test[i],cv2.COLOR_RGB2GRAY)\n",
    "\n",
    "for i in range(len(x_validation)):\n",
    "    x_validation_la[i]  = cv2.cvtColor(x_validation[i],cv2.COLOR_RGB2GRAY)\n",
    "\n",
    "x_train = x_train_la.reshape(x_train_la.shape[0], 32, 32, 1).astype('float32')\n",
    "#x_test = x_test_la.reshape(x_test_la.shape[0], 32, 32, 1).astype('float32')\n",
    "x_validation = x_validation_la.reshape(x_validation_la.shape[0], 32, 32, 1).astype('float32')\n",
    "    \n",
    "\n",
    "# normalization\n",
    "x_train = (x_train -128) /128\n",
    "#x_test = (x_test-128) /128\n",
    "x_validation = (x_validation-128) /128\n"
   ]
  },
  {
   "cell_type": "markdown",
   "metadata": {},
   "source": [
    "### Model Architecture"
   ]
  },
  {
   "cell_type": "code",
   "execution_count": 17,
   "metadata": {
    "collapsed": true
   },
   "outputs": [],
   "source": [
    "from tensorflow.contrib.layers import flatten\n",
    "keep_prob = tf.placeholder(tf.float32)\n",
    "\n",
    "def LetNet(x):\n",
    "    mu = 0\n",
    "    sigma = 0.1\n",
    "    x = tf.reshape(x, shape=[-1, 32, 32, 1])\n",
    "    \n",
    "    # soluation layer1 (C1):Convlutional input 32*32*1 output: 6*28*28 \n",
    "    conv1_w = tf.Variable(tf.truncated_normal(shape=(5,5,1,6),  mean = mu, stddev = sigma))\n",
    "    conv1_b = tf.Variable(tf.zeros(6))\n",
    "    conv1  = tf.nn.conv2d(x, conv1_w, strides= (1,1,1,1), padding = 'VALID')+ conv1_b\n",
    "    conv1 = tf.nn.relu(conv1)\n",
    "    \n",
    "    # soluation: pooling, input 6*28*28 output 6*14*14\n",
    "    conv1 = tf.nn.max_pool(conv1, ksize=[1,2,2,1], strides = [1,2,2,1], padding = 'VALID')\n",
    "    #conv1 = tf.nn.dropout(conv1, keep_prob)\n",
    "    \n",
    "    # soluation:layer2 (c3): input 6*28*28  convolutional Output = 10x10x16 \n",
    "    conv2_w = tf.Variable(tf.truncated_normal(shape=(5,5,6,16),  mean = mu, stddev = sigma))\n",
    "    conv2_b = tf.Variable(tf.zeros(16))\n",
    "    conv2  = tf.nn.conv2d(conv1, conv2_w, strides= (1,1,1,1),  padding = 'VALID')+ conv2_b\n",
    "    conv2 = tf.nn.relu(conv2)\n",
    "    \n",
    "    # soluation (s4)pooling , input  = 10x10x16 output = 5x5x16     \n",
    "    conv2 = tf.nn.max_pool(conv2, ksize=[1,2,2,1], strides = [1,2,2,1], padding = 'VALID'  )\n",
    "    #conv2 = tf.nn.dropout(conv2, keep_prob)\n",
    "    \n",
    "    # Fully connected layer , flatten, input = 5x5x16,output = 400  \n",
    "    fc0  = flatten(conv2)   \n",
    "    #Output = 120 input = 400\n",
    "    fe1_w = tf.Variable(tf.truncated_normal(shape=(400,120),  mean = mu, stddev = sigma))\n",
    "    fe1_b = tf.Variable(tf.zeros(120))\n",
    "    fe1  = tf.matmul(fc0 , fe1_w) + fe1_b\n",
    "    fe1 = tf.nn.relu(fe1)\n",
    "    \n",
    "    #dropout layer reduce overfitting\n",
    "    fe1 = tf.nn.dropout(fe1,keep_prob)\n",
    "                       \n",
    "    # soluation:layer4: convolutional Output = 120 input = 84\n",
    "    fe2_w = tf.Variable(tf.truncated_normal(shape=(120,84),  mean = mu, stddev = sigma))\n",
    "    fe2_b = tf.Variable(tf.zeros(84))\n",
    "    fe2  = tf.matmul(fe1 , fe2_w)+ fe2_b\n",
    "    fe2 = tf.nn.relu(fe2)\n",
    "    #fe2 = tf.nn.dropout(fe2,keep_prob)\n",
    "                       \n",
    "    # soluation:layer3: convolutional input = 84 input = 10\n",
    "    fe3_w = tf.Variable(tf.truncated_normal(shape=(84,43),  mean = mu, stddev = sigma))\n",
    "    fe3_b = tf.Variable(tf.zeros(43))\n",
    "    logits  = tf.matmul(fe2 , fe3_w)+ fe3_b\n",
    "    \n",
    "    # soluation activation\n",
    "    return logits"
   ]
  },
  {
   "cell_type": "markdown",
   "metadata": {},
   "source": [
    "### Train, Validate and Test the Model"
   ]
  },
  {
   "cell_type": "code",
   "execution_count": 19,
   "metadata": {
    "scrolled": true
   },
   "outputs": [
    {
     "name": "stdout",
     "output_type": "stream",
     "text": [
      "training .....\n",
      "\n",
      "EPOCH {}.... 1\n",
      "validation accuracy =  0.8005747145534247\n",
      "\n",
      "EPOCH {}.... 2\n",
      "validation accuracy =  0.918965515091844\n",
      "\n",
      "EPOCH {}.... 3\n",
      "validation accuracy =  0.9466954003805401\n",
      "\n",
      "EPOCH {}.... 4\n",
      "validation accuracy =  0.9597701167409447\n",
      "\n",
      "EPOCH {}.... 5\n",
      "validation accuracy =  0.9673850597150024\n",
      "\n",
      "EPOCH {}.... 6\n",
      "validation accuracy =  0.9752873608350069\n",
      "\n",
      "EPOCH {}.... 7\n",
      "validation accuracy =  0.9775862099452951\n",
      "\n",
      "EPOCH {}.... 8\n",
      "validation accuracy =  0.9774425269115246\n",
      "\n",
      "EPOCH {}.... 9\n",
      "validation accuracy =  0.9827586264274586\n",
      "\n",
      "EPOCH {}.... 10\n",
      "validation accuracy =  0.9856321901168631\n",
      "\n",
      "EPOCH {}.... 11\n",
      "validation accuracy =  0.9862069007137726\n",
      "\n",
      "EPOCH {}.... 12\n",
      "validation accuracy =  0.9833333380948538\n",
      "\n",
      "EPOCH {}.... 13\n",
      "validation accuracy =  0.9831896575017908\n",
      "\n",
      "EPOCH {}.... 14\n",
      "validation accuracy =  0.9849137925039763\n",
      "\n",
      "EPOCH {}.... 15\n",
      "validation accuracy =  0.9873563251190487\n",
      "\n",
      "EPOCH {}.... 16\n",
      "validation accuracy =  0.9873563264892704\n",
      "\n",
      "EPOCH {}.... 17\n",
      "validation accuracy =  0.9862069007137726\n",
      "\n",
      "EPOCH {}.... 18\n",
      "validation accuracy =  0.9886494247649593\n",
      "\n",
      "EPOCH {}.... 19\n",
      "validation accuracy =  0.9870689639329225\n",
      "\n",
      "EPOCH {}.... 20\n",
      "validation accuracy =  0.9889367838101141\n",
      "\n",
      "EPOCH {}.... 21\n",
      "validation accuracy =  0.9846264409522215\n",
      "\n",
      "EPOCH {}.... 22\n",
      "validation accuracy =  0.9880747141680498\n",
      "\n",
      "EPOCH {}.... 23\n",
      "validation accuracy =  0.988649426135181\n",
      "\n",
      "EPOCH {}.... 24\n",
      "validation accuracy =  0.9875000067825975\n",
      "\n",
      "EPOCH {}.... 25\n",
      "validation accuracy =  0.987643682023232\n",
      "\n",
      "EPOCH {}.... 26\n",
      "validation accuracy =  0.987787359404838\n",
      "\n",
      "EPOCH {}.... 27\n",
      "validation accuracy =  0.9895114957772452\n",
      "\n",
      "EPOCH {}.... 28\n",
      "validation accuracy =  0.9896551742293369\n",
      "\n",
      "EPOCH {}.... 29\n",
      "validation accuracy =  0.9883620713719692\n",
      "\n",
      "EPOCH {}.... 30\n",
      "validation accuracy =  0.9892241407142973\n",
      "\n",
      "model finish\n",
      "./model.ckpt\n"
     ]
    }
   ],
   "source": [
    "EPOCHS = 30\n",
    "BATCH_SIZE = 125\n",
    "\n",
    "# features and labels\n",
    "x = tf.placeholder(tf.float32, (None, 32,32,1))\n",
    "y = tf.placeholder(tf.int32, (None))                        \n",
    "one_hot_y = tf.one_hot(y, 43)   \n",
    "\n",
    "rate = 0.002\n",
    "logits = LetNet(x)\n",
    "\n",
    "cross_entropy = tf.nn.softmax_cross_entropy_with_logits(logits=logits, labels=one_hot_y) \n",
    "loss_operation = tf.reduce_mean(cross_entropy)\n",
    "optimizer  = tf.train.AdamOptimizer(learning_rate = rate)\n",
    "training_operation = optimizer.minimize(loss_operation)\n",
    "\n",
    "correct_prediction = tf.equal(tf.argmax(logits,1), tf.argmax(one_hot_y,1))\n",
    "accuracy_operation = tf.reduce_mean (tf.cast(correct_prediction, tf.float32))\n",
    "\n",
    "def evaluate(x_data, y_data):\n",
    "    num_examples = len(x_data)\n",
    "    total_accuracy = 0\n",
    "    sess = tf.get_default_session()\n",
    "    for offset in range(0, num_examples, BATCH_SIZE):\n",
    "        batch_x, batch_y = x_data[offset: offset+ BATCH_SIZE], y_data[offset:offset+BATCH_SIZE] \n",
    "        accuracy = sess.run(accuracy_operation, feed_dict ={x: batch_x, y: batch_y, keep_prob : 1})\n",
    "        total_accuracy +=  (accuracy * len(batch_x))\n",
    "    return total_accuracy / num_examples\n",
    "\n",
    "\n",
    "#train the model\n",
    "def train_model(x_train, y_train, x_validation,y_validation ):\n",
    "    saver=tf.train.Saver(max_to_keep=1)\n",
    "    with tf.Session() as sess:\n",
    "        sess.run(tf.global_variables_initializer())\n",
    "        mun_examples = len(x_train)\n",
    "        print('training .....')\n",
    "        print()\n",
    "        \n",
    "        for i in range(EPOCHS):\n",
    "            x_train, y_train = shuffle(x_train, y_train)\n",
    "            for offset in range(0 , mun_examples,  BATCH_SIZE):\n",
    "                end = offset + BATCH_SIZE\n",
    "                batch_x, batch_y = x_train[offset:end], y_train[offset:end]\n",
    "                sess.run(training_operation, feed_dict = {x: batch_x, y: batch_y, keep_prob : 0.5})\n",
    "              \n",
    "            validation_accuracy = evaluate(x_validation, y_validation)\n",
    "            print('EPOCH {}....', format(i+1))\n",
    "            print('validation accuracy = ', format(validation_accuracy))\n",
    "            print()\n",
    "            if validation_accuracy>=0.99:\n",
    "                #save_path =  saver.save(sess, './model.ckpt')\n",
    "                break\n",
    "        save_path =  saver.save(sess, './model.ckpt')\n",
    "        print(\"model finish\")\n",
    "        print(save_path)\n",
    "               \n",
    "train_model(x_train,y_train,x_validation,y_validation)\n",
    "\n",
    "\n"
   ]
  },
  {
   "cell_type": "markdown",
   "metadata": {},
   "source": [
    "## Step 3: Test a Model on New Images\n",
    "\n",
    "To give yourself more insight into how your model is working, download at least five pictures of German traffic signs from the web and use your model to predict the traffic sign type.\n",
    "\n",
    "You may find `signnames.csv` useful as it contains mappings from the class id (integer) to the actual sign name."
   ]
  },
  {
   "cell_type": "markdown",
   "metadata": {},
   "source": [
    "### Load and Output the Images"
   ]
  },
  {
   "cell_type": "code",
   "execution_count": 22,
   "metadata": {},
   "outputs": [
    {
     "name": "stdout",
     "output_type": "stream",
     "text": [
      "traffic sign type:  28\n",
      "traffic sign type:  27\n",
      "traffic sign type:  17\n",
      "traffic sign type:  18\n",
      "traffic sign type:  2\n"
     ]
    },
    {
     "data": {
      "image/png": "[encoded data removed]",
      "text/plain": [
       "<matplotlib.figure.Figure at 0x7f8658637fd0>"
      ]
     },
     "metadata": {},
     "output_type": "display_data"
    }
   ],
   "source": [
    "from PIL import Image\n",
    "import os\n",
    "\n",
    "IMAGE_HEIGHT = 32\n",
    "IMAGE_WIDTH = 32\n",
    "CHANNEL = 3\n",
    "\n",
    "batch_size= 5\n",
    "BATCH_SIZE = 5 \n",
    "\n",
    "\n",
    "def get_name_and_image(i):\n",
    "  all_image = os.listdir('./new_image/')\n",
    "  name = os.path.basename('./new_image/'+all_image[i])\n",
    "  image = cv2.imread('./new_image/' + all_image[i], 0) \n",
    "  return image, name\n",
    "\n",
    "def get_next_batch(batch_size):\n",
    "  new_image_x = np.zeros([batch_size, IMAGE_HEIGHT,IMAGE_WIDTH])\n",
    "  new_image_y = np.zeros(43)\n",
    "\n",
    "  for i in range(batch_size):\n",
    "  \n",
    "    image,name  = get_name_and_image(i)\n",
    "    print(\"traffic sign type: \",name[:-10])\n",
    "    new_image_x[i,:,:] = image\n",
    "    new_image_y[i] = name[:-10]\n",
    "   \n",
    "  return new_image_x,new_image_y\n",
    "\n",
    "\n",
    "new_image_x, new_image_y = get_next_batch(batch_size)\n",
    "\n",
    "plt.subplot(151) \n",
    "plt.imshow(new_image_x[0])\n",
    "plt.subplot(152) \n",
    "plt.imshow(new_image_x[1])\n",
    "plt.subplot(153) \n",
    "plt.imshow(new_image_x[2])\n",
    "plt.subplot(154) \n",
    "plt.imshow(new_image_x[3])\n",
    "plt.subplot(155) \n",
    "plt.imshow(new_image_x[4])\n",
    "\n",
    "#rgc to gray and normalized\n",
    "new_image_x = new_image_x.reshape(new_image_x.shape[0], 32, 32, 1).astype('float32')\n",
    "new_image_x = (new_image_x-128) /128\n"
   ]
  },
  {
   "cell_type": "markdown",
   "metadata": {},
   "source": [
    "### Predict the Sign Type for Each Image"
   ]
  },
  {
   "cell_type": "code",
   "execution_count": 23,
   "metadata": {},
   "outputs": [
    {
     "name": "stdout",
     "output_type": "stream",
     "text": [
      "INFO:tensorflow:Restoring parameters from ./model.ckpt\n",
      "predict =  [28 11 17 18  2]\n"
     ]
    }
   ],
   "source": [
    "softmax_probability = tf.nn.softmax(logits)\n",
    "prediction = tf.argmax(logits,1)\n",
    "\n",
    "save_path = './model.ckpt'\n",
    "saver = tf.train.Saver()\n",
    "with tf.Session() as sess:\n",
    "    mun_examples = len(new_image_x)\n",
    "    #saver = saver.restore(sess, tf.train.latest_checkpoint('./'))\n",
    "    saver.restore(sess, save_path)\n",
    "\n",
    "    for offset in range(0 , mun_examples,  BATCH_SIZE):\n",
    "        end = offset + BATCH_SIZE\n",
    "        batch_x, batch_y = new_image_x[offset:end], new_image_y[offset:end]\n",
    "        pred = sess.run(prediction, feed_dict = {x: batch_x ,keep_prob: 1})\n",
    "        probability = sess.run(softmax_probability, feed_dict = {x: batch_x, keep_prob : 1})\n",
    "        \n",
    "        #print('the sign name of image', batch_y[offset] )\n",
    "        print('predict = ', pred)\n",
    "\n"
   ]
  },
  {
   "cell_type": "markdown",
   "metadata": {},
   "source": [
    "### Analyze Performance"
   ]
  },
  {
   "cell_type": "code",
   "execution_count": 24,
   "metadata": {},
   "outputs": [
    {
     "name": "stdout",
     "output_type": "stream",
     "text": [
      "INFO:tensorflow:Restoring parameters from ./model.ckpt\n",
      "\n",
      "TopKV2(values=array([[  1.00000000e+00,   2.04112009e-12,   2.13691606e-14,\n",
      "          1.52693156e-14,   4.40851797e-17],\n",
      "       [  5.59312880e-01,   2.89827794e-01,   1.45708308e-01,\n",
      "          3.39680654e-03,   1.53115566e-03],\n",
      "       [  1.00000000e+00,   1.24523587e-17,   5.10042709e-18,\n",
      "          2.73205038e-19,   1.20333234e-19],\n",
      "       [  9.97194648e-01,   2.36601732e-03,   2.02413619e-04,\n",
      "          9.43740379e-05,   6.89559602e-05],\n",
      "       [  9.99999642e-01,   3.63346857e-07,   2.83620627e-10,\n",
      "          8.21896316e-13,   7.19699077e-15]], dtype=float32), indices=array([[28, 29, 20, 24, 18],\n",
      "       [11,  1, 18, 37, 39],\n",
      "       [17, 40, 14, 33, 38],\n",
      "       [18, 26, 11, 33, 25],\n",
      "       [ 2,  5,  3,  1,  7]], dtype=int32))\n"
     ]
    }
   ],
   "source": [
    "with tf.Session() as sess:\n",
    "    mun_examples = len(new_image_x)\n",
    "    saver.restore(sess, save_path)\n",
    "\n",
    "    for offset in range(0 , mun_examples,  BATCH_SIZE):\n",
    "        end = offset + BATCH_SIZE\n",
    "        batch_x, batch_y = new_image_x[offset:end], new_image_y[offset:end]\n",
    "        probability = sess.run(softmax_probability, feed_dict = {x: batch_x, keep_prob : 1})\n",
    "        \n",
    "        #print('probability = ',probability)\n",
    "\n",
    "        print()\n",
    "    print(sess.run(tf.nn.top_k(probability, 5)))\n",
    "            \n"
   ]
  },
  {
   "cell_type": "code",
   "execution_count": null,
   "metadata": {
    "collapsed": true
   },
   "outputs": [],
   "source": []
  }
 ],
 "metadata": {
  "kernelspec": {
   "display_name": "Python 3",
   "language": "python",
   "name": "python3"
  },
  "language_info": {
   "codemirror_mode": {
    "name": "ipython",
    "version": 3
   },
   "file_extension": ".py",
   "mimetype": "text/x-python",
   "name": "python",
   "nbconvert_exporter": "python",
   "pygments_lexer": "ipython3",
   "version": "3.6.3"
  }
 },
 "nbformat": 4,
 "nbformat_minor": 2
}
